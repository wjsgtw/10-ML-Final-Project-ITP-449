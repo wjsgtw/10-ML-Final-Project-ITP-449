{
  "nbformat": 4,
  "nbformat_minor": 0,
  "metadata": {
    "colab": {
      "name": "Final_Koh_Wee Jin.ipynb",
      "provenance": [],
      "collapsed_sections": [],
      "toc_visible": true
    },
    "kernelspec": {
      "name": "python3",
      "display_name": "Python 3"
    },
    "language_info": {
      "name": "python"
    }
  },
  "cells": [
    {
      "cell_type": "markdown",
      "metadata": {
        "id": "HLZ91mmvMQyl"
      },
      "source": [
        "## **Machine Learning Final Project**\n",
        "\n",
        "**Note: Please read all the instructions carefully before starting the project.**\n",
        "\n",
        "For your final project you will build an ML model to analyze a dataset of your choice. You are welcome to keep working on the data in your EDA project if your data is large enough (at least 1000 rows for simple models and at least 10,000 for more complex models) or you can choose from the datasets/project suggestions below.\n",
        "\n",
        "In this project make sure that you:\n",
        "- Have a large enough dataset\n",
        "- Split your data in training and testing\n",
        "- Explore your data to inform which type of model to choose (no need if you are using your EDA dataset)\n",
        "- Try different models on your training dataset - then select the most promising model\n",
        "- Use cross validation to fine tune the model’s parameters such as alpha in lasso\n",
        "- Communicate your model’s performance and make sure you compare it to a benchmark when appropriate\n",
        "- Plot interesting graphs and results\n",
        "- Write and publish your article to medium\n",
        "- Commit your code to your GitHub\n",
        "\n",
        "Please ensure you handle all the preprocessing before the modeling.\n",
        "\n",
        "Suggestions for project:\n",
        "You can take a look at the resources given below for choosing a dataset for your project. \n",
        "\n",
        "- Traffic sign detection - https://benchmark.ini.rub.de/gtsdb_dataset.html\n",
        "- Cat and dog classifier - https://www.kaggle.com/c/dogs-vs-cats/data\n",
        "- Other datasets from Kaggle - https://www.kaggle.com/data/41592"
      ]
    },
    {
      "cell_type": "markdown",
      "metadata": {
        "id": "mirWm3dBPv90"
      },
      "source": [
        "## **Grading Criteria**\n",
        "\n",
        "- Show clear exploration of the data to justify model choice\n",
        "- Train mutliple models and clearly articulate why you chose your final model\n",
        "- Show your performance on test dataset\n",
        "- Clear and concise write-up with clear well-documented figures\n",
        "- Commit your code to GitHub"
      ]
    },
    {
      "cell_type": "markdown",
      "metadata": {
        "id": "4ZRNqxFcP4wx"
      },
      "source": [
        "## **Submission Details**\n",
        "\n",
        "This is an individual assignment. You may not work in groups. The assignment is due on Thursday (05/06/2021)\n",
        "- To submit your assignment, download your notebook and the dataset, zip the dataset and notebook, and submit the zipped file on blackboard.\n",
        "- Make sure the notebook is named in the format - Final_LastName_FirstName. If you are submitting a zipped file, please name the file as well in the same format.\n",
        "- Please include the link to access your blog and your github repo in your notebook.\n",
        "- Also include the link to your notebook, github repo and the blog in the submission on blackboard. Please ensure the TAs have the required access to your notebooks and the github repo.\n",
        "\n",
        "**Note - If the dataset is too large to be zipped and submitted on blackboard, only submit your notebook, add your dataset to your google drive and share a link to the file in your notebook.**"
      ]
    },
    {
      "cell_type": "code",
      "metadata": {
        "id": "zuE2_XQ3zwKY"
      },
      "source": [
        "#ITP 449 Final Project, Wee Jin Koh\n",
        "\n",
        "#Medium Article: https://weejinko.medium.com/itp-449-final-project-machine-learning-models-844ceb85ab9c\n",
        "#Github repository: https://github.com/wjsgtw/ITP-449-FinalProject"
      ],
      "execution_count": null,
      "outputs": []
    },
    {
      "cell_type": "code",
      "metadata": {
        "id": "ZzWRBLl6MImY"
      },
      "source": [
        "# Start solution here\n",
        "import numpy as np\n",
        "import pandas as pd\n",
        "import matplotlib.pyplot as plt\n",
        "import seaborn as sns\n",
        "from sklearn.model_selection import train_test_split\n",
        "from sklearn import tree\n",
        "from sklearn.tree import DecisionTreeClassifier\n",
        "from sklearn import metrics\n",
        "from sklearn.model_selection import cross_val_score\n",
        "from sklearn.metrics import accuracy_score\n",
        "from sklearn.preprocessing import StandardScaler\n",
        "from sklearn.linear_model import LogisticRegression\n",
        "from sklearn.linear_model import LogisticRegressionCV\n",
        "from sklearn.ensemble import BaggingClassifier\n",
        "from sklearn.ensemble import RandomForestClassifier\n",
        "from sklearn.ensemble import AdaBoostClassifier\n",
        "from sklearn import svm\n",
        "import xgboost as xgb\n",
        "from sklearn.ensemble import VotingClassifier\n",
        "from sklearn.model_selection import RepeatedStratifiedKFold\n",
        "from sklearn.model_selection import RandomizedSearchCV\n",
        "from scipy.stats import loguniform\n",
        "from sklearn.dummy import DummyClassifier"
      ],
      "execution_count": null,
      "outputs": []
    },
    {
      "cell_type": "markdown",
      "metadata": {
        "id": "ySx36qZFWJFE"
      },
      "source": [
        "# Data Reading, Cleaning, and Exploration"
      ]
    },
    {
      "cell_type": "code",
      "metadata": {
        "id": "EkjcvZQb31g_"
      },
      "source": [
        "#two-class classifier prediction model\n",
        "\n",
        "#Data reading\n",
        "\n",
        "#Dataset source: https://www.kaggle.com/radmirzosimov/telecom-users-dataset \n",
        "df = pd.read_csv('telecom_users.csv')\n"
      ],
      "execution_count": null,
      "outputs": []
    },
    {
      "cell_type": "markdown",
      "metadata": {
        "id": "QPVU0goShJoH"
      },
      "source": [
        "Overview of Variables (from https://www.kaggle.com/radmirzosimov/telecom-users-dataset)\n",
        "\n",
        "- customerID - customer id\n",
        "- gender - client gender (male / female)\n",
        "- SeniorCitizen - is the client retired (1, 0)\n",
        "- Partner - is the client married (Yes, No)\n",
        "- tenure - how many months a person has been a client of the company\n",
        "- PhoneService - is the telephone service connected (Yes, No)\n",
        "- MultipleLines - are multiple phone lines connected (Yes, No, No phone service)\n",
        "- InternetService - client's Internet service provider (DSL, Fiber optic, No)\n",
        "- OnlineSecurity - is the online security service connected (Yes, No, No internet service)\n",
        "- OnlineBackup - is the online backup service activated (Yes, No, No internet service)\n",
        "- DeviceProtection - does the client have equipment insurance (Yes, No, No internet service)\n",
        "- TechSupport - is the technical support service connected (Yes, No, No internet service)\n",
        "- StreamingTV - is the streaming TV service connected (Yes, No, No internet service)\n",
        "- StreamingMovies - is the streaming cinema service activated (Yes, No, No internet service)\n",
        "- Contract - type of customer contract (Month-to-month, One year, Two year)\n",
        "- PaperlessBilling - whether the client uses paperless billing (Yes, No)\n",
        "- PaymentMethod - payment method (Electronic check, Mailed check, Bank transfer (automatic), Credit card (automatic))\n",
        "- MonthlyCharges - current monthly payment\n",
        "- TotalCharges - the total amount that the client paid for the services for the entire time\n",
        "- Churn - whether there was a churn (Yes or No)\n",
        "\n"
      ]
    },
    {
      "cell_type": "code",
      "metadata": {
        "id": "SqS1yxdPcs-T",
        "colab": {
          "base_uri": "https://localhost:8080/"
        },
        "outputId": "a03a36fb-2a3c-48e6-f2e3-4832421c5491"
      },
      "source": [
        "#initial exploration\n",
        "print(df.shape) #shape of dataset is 5986 instances with 22 attributes\n",
        "print(df.head())\n",
        "print(df.info())\n",
        "print(df.columns.values)\n",
        "print(df.isnull().sum())\n",
        "\n",
        "#The dependent variable should be churn, because a combination all of the other attributes determine if the customer will leave the telco or not.\n",
        "#There are no null values upon first inspection.\n",
        "\n"
      ],
      "execution_count": null,
      "outputs": [
        {
          "output_type": "stream",
          "text": [
            "(5986, 22)\n",
            "   Unnamed: 0  customerID  gender  ...  MonthlyCharges TotalCharges Churn\n",
            "0        1869  7010-BRBUU    Male  ...           24.10      1734.65    No\n",
            "1        4528  9688-YGXVR  Female  ...           88.15       3973.2    No\n",
            "2        6344  9286-DOJGF  Female  ...           74.95      2869.85   Yes\n",
            "3        6739  6994-KERXL    Male  ...           55.90        238.5    No\n",
            "4         432  2181-UAESM    Male  ...           53.45        119.5    No\n",
            "\n",
            "[5 rows x 22 columns]\n",
            "<class 'pandas.core.frame.DataFrame'>\n",
            "RangeIndex: 5986 entries, 0 to 5985\n",
            "Data columns (total 22 columns):\n",
            " #   Column            Non-Null Count  Dtype  \n",
            "---  ------            --------------  -----  \n",
            " 0   Unnamed: 0        5986 non-null   int64  \n",
            " 1   customerID        5986 non-null   object \n",
            " 2   gender            5986 non-null   object \n",
            " 3   SeniorCitizen     5986 non-null   int64  \n",
            " 4   Partner           5986 non-null   object \n",
            " 5   Dependents        5986 non-null   object \n",
            " 6   tenure            5986 non-null   int64  \n",
            " 7   PhoneService      5986 non-null   object \n",
            " 8   MultipleLines     5986 non-null   object \n",
            " 9   InternetService   5986 non-null   object \n",
            " 10  OnlineSecurity    5986 non-null   object \n",
            " 11  OnlineBackup      5986 non-null   object \n",
            " 12  DeviceProtection  5986 non-null   object \n",
            " 13  TechSupport       5986 non-null   object \n",
            " 14  StreamingTV       5986 non-null   object \n",
            " 15  StreamingMovies   5986 non-null   object \n",
            " 16  Contract          5986 non-null   object \n",
            " 17  PaperlessBilling  5986 non-null   object \n",
            " 18  PaymentMethod     5986 non-null   object \n",
            " 19  MonthlyCharges    5986 non-null   float64\n",
            " 20  TotalCharges      5986 non-null   object \n",
            " 21  Churn             5986 non-null   object \n",
            "dtypes: float64(1), int64(3), object(18)\n",
            "memory usage: 1.0+ MB\n",
            "None\n",
            "['Unnamed: 0' 'customerID' 'gender' 'SeniorCitizen' 'Partner' 'Dependents'\n",
            " 'tenure' 'PhoneService' 'MultipleLines' 'InternetService'\n",
            " 'OnlineSecurity' 'OnlineBackup' 'DeviceProtection' 'TechSupport'\n",
            " 'StreamingTV' 'StreamingMovies' 'Contract' 'PaperlessBilling'\n",
            " 'PaymentMethod' 'MonthlyCharges' 'TotalCharges' 'Churn']\n",
            "Unnamed: 0          0\n",
            "customerID          0\n",
            "gender              0\n",
            "SeniorCitizen       0\n",
            "Partner             0\n",
            "Dependents          0\n",
            "tenure              0\n",
            "PhoneService        0\n",
            "MultipleLines       0\n",
            "InternetService     0\n",
            "OnlineSecurity      0\n",
            "OnlineBackup        0\n",
            "DeviceProtection    0\n",
            "TechSupport         0\n",
            "StreamingTV         0\n",
            "StreamingMovies     0\n",
            "Contract            0\n",
            "PaperlessBilling    0\n",
            "PaymentMethod       0\n",
            "MonthlyCharges      0\n",
            "TotalCharges        0\n",
            "Churn               0\n",
            "dtype: int64\n"
          ],
          "name": "stdout"
        }
      ]
    },
    {
      "cell_type": "code",
      "metadata": {
        "id": "VjIENi437mFa",
        "colab": {
          "base_uri": "https://localhost:8080/",
          "height": 309
        },
        "outputId": "cfae93bd-4e6f-45fa-b2ad-7b0ce7a16d4c"
      },
      "source": [
        "#data cleansing\n",
        "\n",
        "#original index and customerID are not relevant to predicting Churn result; these columns are dropped\n",
        "df.drop('Unnamed: 0', axis=1, inplace=True)\n",
        "df.drop('customerID', axis=1, inplace=True)\n",
        "df.head()"
      ],
      "execution_count": null,
      "outputs": [
        {
          "output_type": "execute_result",
          "data": {
            "text/html": [
              "<div>\n",
              "<style scoped>\n",
              "    .dataframe tbody tr th:only-of-type {\n",
              "        vertical-align: middle;\n",
              "    }\n",
              "\n",
              "    .dataframe tbody tr th {\n",
              "        vertical-align: top;\n",
              "    }\n",
              "\n",
              "    .dataframe thead th {\n",
              "        text-align: right;\n",
              "    }\n",
              "</style>\n",
              "<table border=\"1\" class=\"dataframe\">\n",
              "  <thead>\n",
              "    <tr style=\"text-align: right;\">\n",
              "      <th></th>\n",
              "      <th>gender</th>\n",
              "      <th>SeniorCitizen</th>\n",
              "      <th>Partner</th>\n",
              "      <th>Dependents</th>\n",
              "      <th>tenure</th>\n",
              "      <th>PhoneService</th>\n",
              "      <th>MultipleLines</th>\n",
              "      <th>InternetService</th>\n",
              "      <th>OnlineSecurity</th>\n",
              "      <th>OnlineBackup</th>\n",
              "      <th>DeviceProtection</th>\n",
              "      <th>TechSupport</th>\n",
              "      <th>StreamingTV</th>\n",
              "      <th>StreamingMovies</th>\n",
              "      <th>Contract</th>\n",
              "      <th>PaperlessBilling</th>\n",
              "      <th>PaymentMethod</th>\n",
              "      <th>MonthlyCharges</th>\n",
              "      <th>TotalCharges</th>\n",
              "      <th>Churn</th>\n",
              "    </tr>\n",
              "  </thead>\n",
              "  <tbody>\n",
              "    <tr>\n",
              "      <th>0</th>\n",
              "      <td>Male</td>\n",
              "      <td>0</td>\n",
              "      <td>Yes</td>\n",
              "      <td>Yes</td>\n",
              "      <td>72</td>\n",
              "      <td>Yes</td>\n",
              "      <td>Yes</td>\n",
              "      <td>No</td>\n",
              "      <td>No internet service</td>\n",
              "      <td>No internet service</td>\n",
              "      <td>No internet service</td>\n",
              "      <td>No internet service</td>\n",
              "      <td>No internet service</td>\n",
              "      <td>No internet service</td>\n",
              "      <td>Two year</td>\n",
              "      <td>No</td>\n",
              "      <td>Credit card (automatic)</td>\n",
              "      <td>24.10</td>\n",
              "      <td>1734.65</td>\n",
              "      <td>No</td>\n",
              "    </tr>\n",
              "    <tr>\n",
              "      <th>1</th>\n",
              "      <td>Female</td>\n",
              "      <td>0</td>\n",
              "      <td>No</td>\n",
              "      <td>No</td>\n",
              "      <td>44</td>\n",
              "      <td>Yes</td>\n",
              "      <td>No</td>\n",
              "      <td>Fiber optic</td>\n",
              "      <td>No</td>\n",
              "      <td>Yes</td>\n",
              "      <td>Yes</td>\n",
              "      <td>No</td>\n",
              "      <td>Yes</td>\n",
              "      <td>No</td>\n",
              "      <td>Month-to-month</td>\n",
              "      <td>Yes</td>\n",
              "      <td>Credit card (automatic)</td>\n",
              "      <td>88.15</td>\n",
              "      <td>3973.2</td>\n",
              "      <td>No</td>\n",
              "    </tr>\n",
              "    <tr>\n",
              "      <th>2</th>\n",
              "      <td>Female</td>\n",
              "      <td>1</td>\n",
              "      <td>Yes</td>\n",
              "      <td>No</td>\n",
              "      <td>38</td>\n",
              "      <td>Yes</td>\n",
              "      <td>Yes</td>\n",
              "      <td>Fiber optic</td>\n",
              "      <td>No</td>\n",
              "      <td>No</td>\n",
              "      <td>No</td>\n",
              "      <td>No</td>\n",
              "      <td>No</td>\n",
              "      <td>No</td>\n",
              "      <td>Month-to-month</td>\n",
              "      <td>Yes</td>\n",
              "      <td>Bank transfer (automatic)</td>\n",
              "      <td>74.95</td>\n",
              "      <td>2869.85</td>\n",
              "      <td>Yes</td>\n",
              "    </tr>\n",
              "    <tr>\n",
              "      <th>3</th>\n",
              "      <td>Male</td>\n",
              "      <td>0</td>\n",
              "      <td>No</td>\n",
              "      <td>No</td>\n",
              "      <td>4</td>\n",
              "      <td>Yes</td>\n",
              "      <td>No</td>\n",
              "      <td>DSL</td>\n",
              "      <td>No</td>\n",
              "      <td>No</td>\n",
              "      <td>No</td>\n",
              "      <td>No</td>\n",
              "      <td>No</td>\n",
              "      <td>Yes</td>\n",
              "      <td>Month-to-month</td>\n",
              "      <td>Yes</td>\n",
              "      <td>Electronic check</td>\n",
              "      <td>55.90</td>\n",
              "      <td>238.5</td>\n",
              "      <td>No</td>\n",
              "    </tr>\n",
              "    <tr>\n",
              "      <th>4</th>\n",
              "      <td>Male</td>\n",
              "      <td>0</td>\n",
              "      <td>No</td>\n",
              "      <td>No</td>\n",
              "      <td>2</td>\n",
              "      <td>Yes</td>\n",
              "      <td>No</td>\n",
              "      <td>DSL</td>\n",
              "      <td>Yes</td>\n",
              "      <td>No</td>\n",
              "      <td>Yes</td>\n",
              "      <td>No</td>\n",
              "      <td>No</td>\n",
              "      <td>No</td>\n",
              "      <td>Month-to-month</td>\n",
              "      <td>No</td>\n",
              "      <td>Electronic check</td>\n",
              "      <td>53.45</td>\n",
              "      <td>119.5</td>\n",
              "      <td>No</td>\n",
              "    </tr>\n",
              "  </tbody>\n",
              "</table>\n",
              "</div>"
            ],
            "text/plain": [
              "   gender  SeniorCitizen Partner  ... MonthlyCharges  TotalCharges Churn\n",
              "0    Male              0     Yes  ...          24.10       1734.65    No\n",
              "1  Female              0      No  ...          88.15        3973.2    No\n",
              "2  Female              1     Yes  ...          74.95       2869.85   Yes\n",
              "3    Male              0      No  ...          55.90         238.5    No\n",
              "4    Male              0      No  ...          53.45         119.5    No\n",
              "\n",
              "[5 rows x 20 columns]"
            ]
          },
          "metadata": {
            "tags": []
          },
          "execution_count": 4
        }
      ]
    },
    {
      "cell_type": "code",
      "metadata": {
        "id": "XeYD7MjPIdMv",
        "colab": {
          "base_uri": "https://localhost:8080/"
        },
        "outputId": "3a1ddcc0-6579-436b-8580-fb54152f7fc4"
      },
      "source": [
        "#data preparation\n",
        "\n",
        "#TotalCharges has Dtype object. Tried changing to float, but got error message about empty spaces.\n",
        "#Figuring out which items in TotalCharges cannot be changed to a float due to empty spaces, replace with NaN\n",
        "df['TotalCharges'] = pd.to_numeric(df['TotalCharges'].str.replace(\" \", \"\"), errors='coerce')\n",
        "\n",
        "print(df.info()) #confirmed TotalCharges now is Dtype float\n",
        "print(df.isnull().sum()) #ten TotalCharges items identified as NaN\n",
        "\n",
        "#replace NaN values with average Total Charges amount\n",
        "df['TotalCharges'] = df['TotalCharges'].fillna(df['TotalCharges'].mean())\n",
        "\n",
        "#double check to make sure that there are no more null values\n",
        "print(df.isnull().sum())"
      ],
      "execution_count": null,
      "outputs": [
        {
          "output_type": "stream",
          "text": [
            "<class 'pandas.core.frame.DataFrame'>\n",
            "RangeIndex: 5986 entries, 0 to 5985\n",
            "Data columns (total 20 columns):\n",
            " #   Column            Non-Null Count  Dtype  \n",
            "---  ------            --------------  -----  \n",
            " 0   gender            5986 non-null   object \n",
            " 1   SeniorCitizen     5986 non-null   int64  \n",
            " 2   Partner           5986 non-null   object \n",
            " 3   Dependents        5986 non-null   object \n",
            " 4   tenure            5986 non-null   int64  \n",
            " 5   PhoneService      5986 non-null   object \n",
            " 6   MultipleLines     5986 non-null   object \n",
            " 7   InternetService   5986 non-null   object \n",
            " 8   OnlineSecurity    5986 non-null   object \n",
            " 9   OnlineBackup      5986 non-null   object \n",
            " 10  DeviceProtection  5986 non-null   object \n",
            " 11  TechSupport       5986 non-null   object \n",
            " 12  StreamingTV       5986 non-null   object \n",
            " 13  StreamingMovies   5986 non-null   object \n",
            " 14  Contract          5986 non-null   object \n",
            " 15  PaperlessBilling  5986 non-null   object \n",
            " 16  PaymentMethod     5986 non-null   object \n",
            " 17  MonthlyCharges    5986 non-null   float64\n",
            " 18  TotalCharges      5976 non-null   float64\n",
            " 19  Churn             5986 non-null   object \n",
            "dtypes: float64(2), int64(2), object(16)\n",
            "memory usage: 935.4+ KB\n",
            "None\n",
            "gender               0\n",
            "SeniorCitizen        0\n",
            "Partner              0\n",
            "Dependents           0\n",
            "tenure               0\n",
            "PhoneService         0\n",
            "MultipleLines        0\n",
            "InternetService      0\n",
            "OnlineSecurity       0\n",
            "OnlineBackup         0\n",
            "DeviceProtection     0\n",
            "TechSupport          0\n",
            "StreamingTV          0\n",
            "StreamingMovies      0\n",
            "Contract             0\n",
            "PaperlessBilling     0\n",
            "PaymentMethod        0\n",
            "MonthlyCharges       0\n",
            "TotalCharges        10\n",
            "Churn                0\n",
            "dtype: int64\n",
            "gender              0\n",
            "SeniorCitizen       0\n",
            "Partner             0\n",
            "Dependents          0\n",
            "tenure              0\n",
            "PhoneService        0\n",
            "MultipleLines       0\n",
            "InternetService     0\n",
            "OnlineSecurity      0\n",
            "OnlineBackup        0\n",
            "DeviceProtection    0\n",
            "TechSupport         0\n",
            "StreamingTV         0\n",
            "StreamingMovies     0\n",
            "Contract            0\n",
            "PaperlessBilling    0\n",
            "PaymentMethod       0\n",
            "MonthlyCharges      0\n",
            "TotalCharges        0\n",
            "Churn               0\n",
            "dtype: int64\n"
          ],
          "name": "stdout"
        }
      ]
    },
    {
      "cell_type": "code",
      "metadata": {
        "colab": {
          "base_uri": "https://localhost:8080/",
          "height": 346
        },
        "id": "3iWcNj6YiJai",
        "outputId": "941917d1-f70e-4b77-83e8-a2d289b81c7d"
      },
      "source": [
        "#1) breakdown of the numbers of Yes and No for churn\n",
        "\n",
        "print(df['Churn'].value_counts())\n",
        "\n",
        "sns.countplot(x='Churn', data=df)\n",
        "plt.title(\"Breakdown of Churned and Not Churned Customer Numbers\")\n",
        "plt.ylabel(\"Number of Customers\")\n",
        "plt.show()\n",
        "\n",
        "#It appears that our dataset does not have an approximately equal number of target variable results."
      ],
      "execution_count": null,
      "outputs": [
        {
          "output_type": "stream",
          "text": [
            "No     4399\n",
            "Yes    1587\n",
            "Name: Churn, dtype: int64\n"
          ],
          "name": "stdout"
        },
        {
          "output_type": "display_data",
          "data": {
            "image/png": "[encoded data removed]",
            "text/plain": [
              "<Figure size 432x288 with 1 Axes>"
            ]
          },
          "metadata": {
            "tags": [],
            "needs_background": "light"
          }
        }
      ]
    },
    {
      "cell_type": "code",
      "metadata": {
        "colab": {
          "base_uri": "https://localhost:8080/",
          "height": 295
        },
        "id": "Dowi3Sv-lXFR",
        "outputId": "d4b0bf3d-b6cf-4fdc-ac7e-43e94fa035ce"
      },
      "source": [
        "#2) Hypothesis that the total amounts charged are correlated with Churn rate\n",
        "boxplot = sns.boxplot(x=\"Churn\", y=\"TotalCharges\", data=df)\n",
        "plt.title(\"Churn and Total Charges Comparison\")\n",
        "plt.ylabel(\"Total Charges ($)\")\n",
        "plt.show()\n",
        "#While there are a lot of outliers (aka those who paid exorbitant amounts are rightly leaving), total charges for churn overall are lower, perhaps signifying shorter tenure?"
      ],
      "execution_count": null,
      "outputs": [
        {
          "output_type": "display_data",
          "data": {
            "image/png": "[encoded data removed]",
            "text/plain": [
              "<Figure size 432x288 with 1 Axes>"
            ]
          },
          "metadata": {
            "tags": [],
            "needs_background": "light"
          }
        }
      ]
    },
    {
      "cell_type": "code",
      "metadata": {
        "colab": {
          "base_uri": "https://localhost:8080/",
          "height": 295
        },
        "id": "3ZyrP4XBpBEn",
        "outputId": "d1326d36-0741-4b85-b9cd-b6640baa913e"
      },
      "source": [
        "#2 continued) Hypothesis that the monthly amounts charged are correlated with Churn rate\n",
        "boxplot = sns.boxplot(x=\"Churn\", y=\"MonthlyCharges\", data=df)\n",
        "plt.title(\"Churn and Monthly Charges Comparison\")\n",
        "plt.ylabel(\"Monthly Charges ($)\")\n",
        "plt.show()\n",
        "#It appears that those churned are those with higher monthly payments and lower total charges probably as a result of not staying very long with the telco."
      ],
      "execution_count": null,
      "outputs": [
        {
          "output_type": "display_data",
          "data": {
            "image/png": "[encoded data removed]",
            "text/plain": [
              "<Figure size 432x288 with 1 Axes>"
            ]
          },
          "metadata": {
            "tags": [],
            "needs_background": "light"
          }
        }
      ]
    },
    {
      "cell_type": "code",
      "metadata": {
        "colab": {
          "base_uri": "https://localhost:8080/",
          "height": 295
        },
        "id": "JjUkuhN9qDJL",
        "outputId": "8332e7b2-7e05-4417-b546-fdc90cdee905"
      },
      "source": [
        "#3) From the results in #2, is there a pattern with tenure and churn rate?\n",
        "boxplot = sns.boxplot(x=\"Churn\", y=\"tenure\", data=df)\n",
        "plt.title(\"Churn and Tenure Comparison\")\n",
        "plt.ylabel(\"tenure (in months)\")\n",
        "plt.show()\n",
        "\n",
        "#As previously inferred, those who are churned left the telco after a shorter period of service."
      ],
      "execution_count": null,
      "outputs": [
        {
          "output_type": "display_data",
          "data": {
            "image/png": "[encoded data removed]",
            "text/plain": [
              "<Figure size 432x288 with 1 Axes>"
            ]
          },
          "metadata": {
            "tags": [],
            "needs_background": "light"
          }
        }
      ]
    },
    {
      "cell_type": "code",
      "metadata": {
        "id": "wETIDKpeq5OM",
        "colab": {
          "base_uri": "https://localhost:8080/",
          "height": 37
        },
        "outputId": "68870882-c547-4667-da7c-239fb01b9f70"
      },
      "source": [
        "'''With some initial hypothesis answered, let's see how much does each feature variable affect churn in a series of ML models to predict churn.'''"
      ],
      "execution_count": null,
      "outputs": [
        {
          "output_type": "execute_result",
          "data": {
            "application/vnd.google.colaboratory.intrinsic+json": {
              "type": "string"
            },
            "text/plain": [
              "\"With some initial hypothesis answered, let's see how much does each feature variable affect churn in a series of ML models to predict churn.\""
            ]
          },
          "metadata": {
            "tags": []
          },
          "execution_count": 10
        }
      ]
    },
    {
      "cell_type": "code",
      "metadata": {
        "colab": {
          "base_uri": "https://localhost:8080/",
          "height": 258
        },
        "id": "rhu8nD2nCrur",
        "outputId": "5b577f7a-f0f0-4588-dbb9-95fa64a3e027"
      },
      "source": [
        "#data preparation continued\n",
        "\n",
        "#create dummy variables for the categorical attributes other than the target variable\n",
        "df2 = pd.get_dummies(df, columns=['gender', 'Partner', 'Dependents', \n",
        "                                  'PhoneService', 'MultipleLines', 'InternetService', 'OnlineSecurity',\n",
        "                                  'OnlineBackup', 'DeviceProtection', 'TechSupport', 'StreamingTV',\n",
        "                                  'StreamingMovies', 'Contract', 'PaperlessBilling', 'PaymentMethod'])\n",
        "\n",
        "#moving Churn to the first column to make iloc easier\n",
        "cols = list(df2.columns)\n",
        "a, b = cols.index('SeniorCitizen'), cols.index('Churn')\n",
        "cols[b], cols[a] = cols[a], cols[b]\n",
        "df2 = df2[cols]\n",
        "df2.head()\n"
      ],
      "execution_count": null,
      "outputs": [
        {
          "output_type": "execute_result",
          "data": {
            "text/html": [
              "<div>\n",
              "<style scoped>\n",
              "    .dataframe tbody tr th:only-of-type {\n",
              "        vertical-align: middle;\n",
              "    }\n",
              "\n",
              "    .dataframe tbody tr th {\n",
              "        vertical-align: top;\n",
              "    }\n",
              "\n",
              "    .dataframe thead th {\n",
              "        text-align: right;\n",
              "    }\n",
              "</style>\n",
              "<table border=\"1\" class=\"dataframe\">\n",
              "  <thead>\n",
              "    <tr style=\"text-align: right;\">\n",
              "      <th></th>\n",
              "      <th>Churn</th>\n",
              "      <th>tenure</th>\n",
              "      <th>MonthlyCharges</th>\n",
              "      <th>TotalCharges</th>\n",
              "      <th>SeniorCitizen</th>\n",
              "      <th>gender_Female</th>\n",
              "      <th>gender_Male</th>\n",
              "      <th>Partner_No</th>\n",
              "      <th>Partner_Yes</th>\n",
              "      <th>Dependents_No</th>\n",
              "      <th>Dependents_Yes</th>\n",
              "      <th>PhoneService_No</th>\n",
              "      <th>PhoneService_Yes</th>\n",
              "      <th>MultipleLines_No</th>\n",
              "      <th>MultipleLines_No phone service</th>\n",
              "      <th>MultipleLines_Yes</th>\n",
              "      <th>InternetService_DSL</th>\n",
              "      <th>InternetService_Fiber optic</th>\n",
              "      <th>InternetService_No</th>\n",
              "      <th>OnlineSecurity_No</th>\n",
              "      <th>OnlineSecurity_No internet service</th>\n",
              "      <th>OnlineSecurity_Yes</th>\n",
              "      <th>OnlineBackup_No</th>\n",
              "      <th>OnlineBackup_No internet service</th>\n",
              "      <th>OnlineBackup_Yes</th>\n",
              "      <th>DeviceProtection_No</th>\n",
              "      <th>DeviceProtection_No internet service</th>\n",
              "      <th>DeviceProtection_Yes</th>\n",
              "      <th>TechSupport_No</th>\n",
              "      <th>TechSupport_No internet service</th>\n",
              "      <th>TechSupport_Yes</th>\n",
              "      <th>StreamingTV_No</th>\n",
              "      <th>StreamingTV_No internet service</th>\n",
              "      <th>StreamingTV_Yes</th>\n",
              "      <th>StreamingMovies_No</th>\n",
              "      <th>StreamingMovies_No internet service</th>\n",
              "      <th>StreamingMovies_Yes</th>\n",
              "      <th>Contract_Month-to-month</th>\n",
              "      <th>Contract_One year</th>\n",
              "      <th>Contract_Two year</th>\n",
              "      <th>PaperlessBilling_No</th>\n",
              "      <th>PaperlessBilling_Yes</th>\n",
              "      <th>PaymentMethod_Bank transfer (automatic)</th>\n",
              "      <th>PaymentMethod_Credit card (automatic)</th>\n",
              "      <th>PaymentMethod_Electronic check</th>\n",
              "      <th>PaymentMethod_Mailed check</th>\n",
              "    </tr>\n",
              "  </thead>\n",
              "  <tbody>\n",
              "    <tr>\n",
              "      <th>0</th>\n",
              "      <td>No</td>\n",
              "      <td>72</td>\n",
              "      <td>24.10</td>\n",
              "      <td>1734.65</td>\n",
              "      <td>0</td>\n",
              "      <td>0</td>\n",
              "      <td>1</td>\n",
              "      <td>0</td>\n",
              "      <td>1</td>\n",
              "      <td>0</td>\n",
              "      <td>1</td>\n",
              "      <td>0</td>\n",
              "      <td>1</td>\n",
              "      <td>0</td>\n",
              "      <td>0</td>\n",
              "      <td>1</td>\n",
              "      <td>0</td>\n",
              "      <td>0</td>\n",
              "      <td>1</td>\n",
              "      <td>0</td>\n",
              "      <td>1</td>\n",
              "      <td>0</td>\n",
              "      <td>0</td>\n",
              "      <td>1</td>\n",
              "      <td>0</td>\n",
              "      <td>0</td>\n",
              "      <td>1</td>\n",
              "      <td>0</td>\n",
              "      <td>0</td>\n",
              "      <td>1</td>\n",
              "      <td>0</td>\n",
              "      <td>0</td>\n",
              "      <td>1</td>\n",
              "      <td>0</td>\n",
              "      <td>0</td>\n",
              "      <td>1</td>\n",
              "      <td>0</td>\n",
              "      <td>0</td>\n",
              "      <td>0</td>\n",
              "      <td>1</td>\n",
              "      <td>1</td>\n",
              "      <td>0</td>\n",
              "      <td>0</td>\n",
              "      <td>1</td>\n",
              "      <td>0</td>\n",
              "      <td>0</td>\n",
              "    </tr>\n",
              "    <tr>\n",
              "      <th>1</th>\n",
              "      <td>No</td>\n",
              "      <td>44</td>\n",
              "      <td>88.15</td>\n",
              "      <td>3973.20</td>\n",
              "      <td>0</td>\n",
              "      <td>1</td>\n",
              "      <td>0</td>\n",
              "      <td>1</td>\n",
              "      <td>0</td>\n",
              "      <td>1</td>\n",
              "      <td>0</td>\n",
              "      <td>0</td>\n",
              "      <td>1</td>\n",
              "      <td>1</td>\n",
              "      <td>0</td>\n",
              "      <td>0</td>\n",
              "      <td>0</td>\n",
              "      <td>1</td>\n",
              "      <td>0</td>\n",
              "      <td>1</td>\n",
              "      <td>0</td>\n",
              "      <td>0</td>\n",
              "      <td>0</td>\n",
              "      <td>0</td>\n",
              "      <td>1</td>\n",
              "      <td>0</td>\n",
              "      <td>0</td>\n",
              "      <td>1</td>\n",
              "      <td>1</td>\n",
              "      <td>0</td>\n",
              "      <td>0</td>\n",
              "      <td>0</td>\n",
              "      <td>0</td>\n",
              "      <td>1</td>\n",
              "      <td>1</td>\n",
              "      <td>0</td>\n",
              "      <td>0</td>\n",
              "      <td>1</td>\n",
              "      <td>0</td>\n",
              "      <td>0</td>\n",
              "      <td>0</td>\n",
              "      <td>1</td>\n",
              "      <td>0</td>\n",
              "      <td>1</td>\n",
              "      <td>0</td>\n",
              "      <td>0</td>\n",
              "    </tr>\n",
              "    <tr>\n",
              "      <th>2</th>\n",
              "      <td>Yes</td>\n",
              "      <td>38</td>\n",
              "      <td>74.95</td>\n",
              "      <td>2869.85</td>\n",
              "      <td>1</td>\n",
              "      <td>1</td>\n",
              "      <td>0</td>\n",
              "      <td>0</td>\n",
              "      <td>1</td>\n",
              "      <td>1</td>\n",
              "      <td>0</td>\n",
              "      <td>0</td>\n",
              "      <td>1</td>\n",
              "      <td>0</td>\n",
              "      <td>0</td>\n",
              "      <td>1</td>\n",
              "      <td>0</td>\n",
              "      <td>1</td>\n",
              "      <td>0</td>\n",
              "      <td>1</td>\n",
              "      <td>0</td>\n",
              "      <td>0</td>\n",
              "      <td>1</td>\n",
              "      <td>0</td>\n",
              "      <td>0</td>\n",
              "      <td>1</td>\n",
              "      <td>0</td>\n",
              "      <td>0</td>\n",
              "      <td>1</td>\n",
              "      <td>0</td>\n",
              "      <td>0</td>\n",
              "      <td>1</td>\n",
              "      <td>0</td>\n",
              "      <td>0</td>\n",
              "      <td>1</td>\n",
              "      <td>0</td>\n",
              "      <td>0</td>\n",
              "      <td>1</td>\n",
              "      <td>0</td>\n",
              "      <td>0</td>\n",
              "      <td>0</td>\n",
              "      <td>1</td>\n",
              "      <td>1</td>\n",
              "      <td>0</td>\n",
              "      <td>0</td>\n",
              "      <td>0</td>\n",
              "    </tr>\n",
              "    <tr>\n",
              "      <th>3</th>\n",
              "      <td>No</td>\n",
              "      <td>4</td>\n",
              "      <td>55.90</td>\n",
              "      <td>238.50</td>\n",
              "      <td>0</td>\n",
              "      <td>0</td>\n",
              "      <td>1</td>\n",
              "      <td>1</td>\n",
              "      <td>0</td>\n",
              "      <td>1</td>\n",
              "      <td>0</td>\n",
              "      <td>0</td>\n",
              "      <td>1</td>\n",
              "      <td>1</td>\n",
              "      <td>0</td>\n",
              "      <td>0</td>\n",
              "      <td>1</td>\n",
              "      <td>0</td>\n",
              "      <td>0</td>\n",
              "      <td>1</td>\n",
              "      <td>0</td>\n",
              "      <td>0</td>\n",
              "      <td>1</td>\n",
              "      <td>0</td>\n",
              "      <td>0</td>\n",
              "      <td>1</td>\n",
              "      <td>0</td>\n",
              "      <td>0</td>\n",
              "      <td>1</td>\n",
              "      <td>0</td>\n",
              "      <td>0</td>\n",
              "      <td>1</td>\n",
              "      <td>0</td>\n",
              "      <td>0</td>\n",
              "      <td>0</td>\n",
              "      <td>0</td>\n",
              "      <td>1</td>\n",
              "      <td>1</td>\n",
              "      <td>0</td>\n",
              "      <td>0</td>\n",
              "      <td>0</td>\n",
              "      <td>1</td>\n",
              "      <td>0</td>\n",
              "      <td>0</td>\n",
              "      <td>1</td>\n",
              "      <td>0</td>\n",
              "    </tr>\n",
              "    <tr>\n",
              "      <th>4</th>\n",
              "      <td>No</td>\n",
              "      <td>2</td>\n",
              "      <td>53.45</td>\n",
              "      <td>119.50</td>\n",
              "      <td>0</td>\n",
              "      <td>0</td>\n",
              "      <td>1</td>\n",
              "      <td>1</td>\n",
              "      <td>0</td>\n",
              "      <td>1</td>\n",
              "      <td>0</td>\n",
              "      <td>0</td>\n",
              "      <td>1</td>\n",
              "      <td>1</td>\n",
              "      <td>0</td>\n",
              "      <td>0</td>\n",
              "      <td>1</td>\n",
              "      <td>0</td>\n",
              "      <td>0</td>\n",
              "      <td>0</td>\n",
              "      <td>0</td>\n",
              "      <td>1</td>\n",
              "      <td>1</td>\n",
              "      <td>0</td>\n",
              "      <td>0</td>\n",
              "      <td>0</td>\n",
              "      <td>0</td>\n",
              "      <td>1</td>\n",
              "      <td>1</td>\n",
              "      <td>0</td>\n",
              "      <td>0</td>\n",
              "      <td>1</td>\n",
              "      <td>0</td>\n",
              "      <td>0</td>\n",
              "      <td>1</td>\n",
              "      <td>0</td>\n",
              "      <td>0</td>\n",
              "      <td>1</td>\n",
              "      <td>0</td>\n",
              "      <td>0</td>\n",
              "      <td>1</td>\n",
              "      <td>0</td>\n",
              "      <td>0</td>\n",
              "      <td>0</td>\n",
              "      <td>1</td>\n",
              "      <td>0</td>\n",
              "    </tr>\n",
              "  </tbody>\n",
              "</table>\n",
              "</div>"
            ],
            "text/plain": [
              "  Churn  tenure  ...  PaymentMethod_Electronic check  PaymentMethod_Mailed check\n",
              "0    No      72  ...                               0                           0\n",
              "1    No      44  ...                               0                           0\n",
              "2   Yes      38  ...                               0                           0\n",
              "3    No       4  ...                               1                           0\n",
              "4    No       2  ...                               1                           0\n",
              "\n",
              "[5 rows x 46 columns]"
            ]
          },
          "metadata": {
            "tags": []
          },
          "execution_count": 11
        }
      ]
    },
    {
      "cell_type": "markdown",
      "metadata": {
        "id": "Ow3Qy3riWuT_"
      },
      "source": [
        "# Modeling"
      ]
    },
    {
      "cell_type": "markdown",
      "metadata": {
        "id": "mcUVfrQSXKaw"
      },
      "source": [
        "## Partition of train and test sets"
      ]
    },
    {
      "cell_type": "code",
      "metadata": {
        "colab": {
          "base_uri": "https://localhost:8080/"
        },
        "id": "IUjnI47FFprp",
        "outputId": "2741a730-5306-460b-ab4c-ae8d6380a8e4"
      },
      "source": [
        "#Split the data into a training and test set.\n",
        "\n",
        "X = df2.iloc[:,1:]\n",
        "y = df2.iloc[:,0]\n",
        "\n",
        "\n",
        "#due to \"ConvergenceWarning: lbfgs failed to converge (status=1)\" warning message on models,\n",
        "#it appears models are not converging due to poor scaling of decision variables\n",
        "\n",
        "#use .fit_transform on feature variables to calculate (fit) standardized mean and variance and apply it to all\n",
        "#applying to columns only to retain DataFrame type rather than turning X into ndarray\n",
        "features = X.columns\n",
        "scaler = StandardScaler()\n",
        "X[features] = scaler.fit_transform(X[features])\n",
        "\n",
        "X_train, X_test, y_train, y_test = train_test_split(X, y, test_size=0.3, random_state = 2021)\n",
        "\n",
        "print(X_train.shape)\n",
        "print(y_train.shape)\n",
        "print(X_test.shape)\n",
        "print(y_test.shape)"
      ],
      "execution_count": null,
      "outputs": [
        {
          "output_type": "stream",
          "text": [
            "(4190, 45)\n",
            "(4190,)\n",
            "(1796, 45)\n",
            "(1796,)\n"
          ],
          "name": "stdout"
        }
      ]
    },
    {
      "cell_type": "code",
      "metadata": {
        "colab": {
          "base_uri": "https://localhost:8080/"
        },
        "id": "dSJhSDh467GK",
        "outputId": "6c3165d7-b292-4fc9-857b-89acb0694789"
      },
      "source": [
        "#establishing baseline accuracy\n",
        "dummy_classifier = DummyClassifier(strategy='most_frequent')\n",
        "dummy_classifier.fit(X_train,y_train)\n",
        "baseline_acc = dummy_classifier.score(X_test,y_test)\n",
        "\n",
        "print(\"Baseline Accuracy = \", baseline_acc)"
      ],
      "execution_count": null,
      "outputs": [
        {
          "output_type": "stream",
          "text": [
            "Baseline Accuracy =  0.7544543429844098\n"
          ],
          "name": "stdout"
        }
      ]
    },
    {
      "cell_type": "markdown",
      "metadata": {
        "id": "xkGgaSN0XRgR"
      },
      "source": [
        "## Basic Models"
      ]
    },
    {
      "cell_type": "code",
      "metadata": {
        "colab": {
          "base_uri": "https://localhost:8080/"
        },
        "id": "zi6ZWeDFGL1h",
        "outputId": "32ca4b78-280a-44b9-d3f0-ab71c6140dbf"
      },
      "source": [
        "#Logistic Regression model\n",
        "\n",
        "model_lr = LogisticRegression(random_state=2021)\n",
        "model_lr.fit(X_train, y_train)\n",
        "\n",
        "pred_lr = model_lr.predict(X_test)\n",
        "accuracy_lr = accuracy_score(y_test, pred_lr)\n",
        "\n",
        "#cross validation done using Stratified K-Fold with 10 folds\n",
        "CVS_lr = np.mean(cross_val_score(model_lr, X, y, cv=10))\n",
        "print('Cross Validation Score = ',CVS_lr)\n",
        "print('Accuracy = ', accuracy_lr)\n"
      ],
      "execution_count": null,
      "outputs": [
        {
          "output_type": "stream",
          "text": [
            "Cross Validation Score =  0.8028718432616234\n",
            "Accuracy =  0.8184855233853007\n"
          ],
          "name": "stdout"
        }
      ]
    },
    {
      "cell_type": "code",
      "metadata": {
        "colab": {
          "base_uri": "https://localhost:8080/"
        },
        "id": "bhQSOCmTJkqz",
        "outputId": "7524eee8-2f31-436d-b651-d9e7b6ac0874"
      },
      "source": [
        "#cross validation to find best hyperparameters\n",
        "\n",
        "model_lr = LogisticRegression(random_state=2021)\n",
        "\n",
        "#define evaluation\n",
        "cv = RepeatedStratifiedKFold(n_splits=10, n_repeats=3, random_state=2021)\n",
        "\n",
        "#define search space\n",
        "space = dict()\n",
        "space['solver'] = ['newton-cg', 'lbfgs', 'liblinear']\n",
        "space['penalty'] = ['none', 'l1', 'l2', 'elasticnet']\n",
        "space['C'] = loguniform(1e-5, 100)\n",
        "\n",
        "#define search\n",
        "search = RandomizedSearchCV(model_lr, space, n_iter=500, scoring='accuracy', n_jobs=-1, cv=cv, random_state=2021)\n",
        "\n",
        "#execute search\n",
        "result = search.fit(X, y)\n",
        "#summarize result\n",
        "print('Best Score: %s' % result.best_score_)\n",
        "print('Best Hyperparameters: %s' % result.best_params_)\n",
        "\n",
        "\n",
        "#This cell took 15 minutes to execute!"
      ],
      "execution_count": null,
      "outputs": [
        {
          "output_type": "stream",
          "text": [
            "Best Score: 0.8023708224223577\n",
            "Best Hyperparameters: {'C': 2.9759315515996994, 'penalty': 'l2', 'solver': 'liblinear'}\n"
          ],
          "name": "stdout"
        }
      ]
    },
    {
      "cell_type": "code",
      "metadata": {
        "colab": {
          "base_uri": "https://localhost:8080/"
        },
        "id": "QD16BM2mOU9J",
        "outputId": "d347b31d-511a-41fc-a76c-a4920e620ed1"
      },
      "source": [
        "#Logistic Regression fine-tuned model\n",
        "\n",
        "model_lr_tuned = LogisticRegression(random_state=2021, C=2.9759315515996994, penalty='l2', solver='liblinear')\n",
        "model_lr_tuned.fit(X_train, y_train)\n",
        "\n",
        "pred_lr_tuned = model_lr_tuned.predict(X_test)\n",
        "accuracy_lr_tuned = accuracy_score(y_test, pred_lr_tuned)\n",
        "\n",
        "#cross validation done using Stratified K-Fold with 10 folds\n",
        "CVS_lr_tuned = np.mean(cross_val_score(model_lr_tuned, X, y, cv=10))\n",
        "print('Cross Validation Score = ',CVS_lr_tuned)\n",
        "print('Accuracy = ', accuracy_lr_tuned)"
      ],
      "execution_count": null,
      "outputs": [
        {
          "output_type": "stream",
          "text": [
            "Cross Validation Score =  0.8022037844568148\n",
            "Accuracy =  0.8184855233853007\n"
          ],
          "name": "stdout"
        }
      ]
    },
    {
      "cell_type": "code",
      "metadata": {
        "id": "B0Vg1miyw00K"
      },
      "source": [
        "'''NOTE: Due to the minimal differences between cross validation score and \n",
        "accuracy score for all models I tried, I have elected not do perform hyperparameter fine tuning \n",
        "for any other model like I did for logistic regression. \n",
        "RandomSearchCV, already time efficient compared to other parameter estimation methods like GridSearchCV, \n",
        "still took 15 minutes to execute on Colab for logistic regression. \n",
        "In the interest of time and with the hardware limitation of Colab plus the minimal differences in the scores, \n",
        "I decided that fine tuning was not worth the insubstantial improvements yielded for my models.\n",
        "\n",
        "Spoken with TAs Amulya and Meghana about this.'''"
      ],
      "execution_count": null,
      "outputs": []
    },
    {
      "cell_type": "code",
      "metadata": {
        "colab": {
          "base_uri": "https://localhost:8080/",
          "height": 718
        },
        "id": "V2Y6WF3fc7H0",
        "outputId": "5c78c229-14a9-49bd-d634-9842838021fe"
      },
      "source": [
        "#graph of all Logistic Regression feature importances\n",
        "\n",
        "f = plt.figure() \n",
        "f.set_figwidth(15) \n",
        "f.set_figheight(8) \n",
        "importance = model_lr_tuned.coef_[0]\n",
        "plt.bar([X.columns[x] for x in range(len(X.columns))], importance)\n",
        "plt.xticks(rotation = 90)\n",
        "plt.title('Feature Importances for Logistic Regression')\n",
        "plt.xlabel('Features')\n",
        "plt.ylabel('Correlation')\n",
        "plt.show()"
      ],
      "execution_count": null,
      "outputs": [
        {
          "output_type": "display_data",
          "data": {
            "image/png": "[encoded data removed]",
            "text/plain": [
              "<Figure size 1080x576 with 1 Axes>"
            ]
          },
          "metadata": {
            "tags": [],
            "needs_background": "light"
          }
        }
      ]
    },
    {
      "cell_type": "code",
      "metadata": {
        "colab": {
          "base_uri": "https://localhost:8080/"
        },
        "id": "uuIBrKbSrwFq",
        "outputId": "63b1da06-088e-411c-e757-8ae3d3bed03c"
      },
      "source": [
        "#top 3 important features for Logistic Regression\n",
        "\n",
        "#take absolute value of .coef_ to be able to sort correctly\n",
        "coefs=abs(model_lr_tuned.coef_[0])\n",
        "\n",
        "top_three = np.argsort(coefs)[-3:]\n",
        "top_three_sorted = top_three[::-1]\n",
        "\n",
        "lr_feat_impt = X.columns[top_three_sorted]\n",
        "lr_feat_impt = lr_feat_impt.tolist()\n",
        "\n",
        "lr_feat_impt_df = pd.DataFrame(lr_feat_impt,columns=['Top Features'])\n",
        "lr_feat_impt_df.index += 1\n",
        "print(lr_feat_impt_df)"
      ],
      "execution_count": null,
      "outputs": [
        {
          "output_type": "stream",
          "text": [
            "     Top Features\n",
            "1          tenure\n",
            "2  MonthlyCharges\n",
            "3    TotalCharges\n"
          ],
          "name": "stdout"
        }
      ]
    },
    {
      "cell_type": "code",
      "metadata": {
        "colab": {
          "base_uri": "https://localhost:8080/"
        },
        "id": "notKFOBpM_PG",
        "outputId": "21765a6f-b9f5-4185-d4f1-fa2fc8f33254"
      },
      "source": [
        "#Decision Tree model\n",
        "model_dt = DecisionTreeClassifier(random_state=2021)\n",
        "model_dt.fit(X_train, y_train)\n",
        "\n",
        "pred_dt = model_dt.predict(X_test)\n",
        "accuracy_dt = accuracy_score(y_test, pred_dt)\n",
        "\n",
        "CVS_dt = np.mean(cross_val_score(model_dt, X, y, cv=10))\n",
        "print('Cross Validation Score = ',CVS_dt)\n",
        "print('Accuracy = ', accuracy_dt)"
      ],
      "execution_count": null,
      "outputs": [
        {
          "output_type": "stream",
          "text": [
            "Cross Validation Score =  0.7310358401125623\n",
            "Accuracy =  0.7232739420935412\n"
          ],
          "name": "stdout"
        }
      ]
    },
    {
      "cell_type": "markdown",
      "metadata": {
        "id": "TRHvZgt9Xg3q"
      },
      "source": [
        "## Averaging Ensemble Models"
      ]
    },
    {
      "cell_type": "code",
      "metadata": {
        "colab": {
          "base_uri": "https://localhost:8080/"
        },
        "id": "n5CZ3yhFU9O8",
        "outputId": "b8089c16-93fd-42e9-b56f-468a92d5f066"
      },
      "source": [
        "#Generic Bagging model\n",
        "\n",
        "base_est = DecisionTreeClassifier()\n",
        "model_bagging = BaggingClassifier(base_estimator=base_est,n_estimators= 10,random_state = 2021)\n",
        "model_bagging.fit(X_train, y_train)\n",
        "\n",
        "pred_bagging = model_bagging.predict(X_test)\n",
        "accuracy_bagging = accuracy_score(y_test, pred_bagging)\n",
        "\n",
        "CVS_bagging = np.mean(cross_val_score(model_bagging, X, y, cv=10))\n",
        "print('Cross Validation Score = ',CVS_bagging)\n",
        "print('Accuracy = ', accuracy_bagging)"
      ],
      "execution_count": null,
      "outputs": [
        {
          "output_type": "stream",
          "text": [
            "Cross Validation Score =  0.7738024913317066\n",
            "Accuracy =  0.7928730512249443\n"
          ],
          "name": "stdout"
        }
      ]
    },
    {
      "cell_type": "code",
      "metadata": {
        "colab": {
          "base_uri": "https://localhost:8080/"
        },
        "id": "Ag2FuqgUWylX",
        "outputId": "0521e301-35d2-4384-aa1a-9f65ed4ea92e"
      },
      "source": [
        "#Random Forest model\n",
        "\n",
        "model_rf = RandomForestClassifier(n_estimators=100, max_features=7, random_state= 2021)\n",
        "model_rf.fit(X_train, y_train)\n",
        "\n",
        "predict_rf = model_rf.predict(X_test)\n",
        "accuracy_rf = accuracy_score(y_test, predict_rf)\n",
        "\n",
        "CVS_rf = np.mean(cross_val_score(model_rf, X, y, cv=10))\n",
        "print('Cross Validation Score = ',CVS_rf)\n",
        "print('Accuracy = ', accuracy_rf)"
      ],
      "execution_count": null,
      "outputs": [
        {
          "output_type": "stream",
          "text": [
            "Cross Validation Score =  0.7895078754445815\n",
            "Accuracy =  0.7884187082405345\n"
          ],
          "name": "stdout"
        }
      ]
    },
    {
      "cell_type": "code",
      "metadata": {
        "colab": {
          "base_uri": "https://localhost:8080/",
          "height": 718
        },
        "id": "tpPsU29CeQK6",
        "outputId": "3de067bd-bec8-43da-e20a-d2cbb7765687"
      },
      "source": [
        "#graph of all Random Forest feature importances\n",
        "f = plt.figure() \n",
        "f.set_figwidth(15) \n",
        "f.set_figheight(8) \n",
        "\n",
        "plt.bar([X_train.columns[x] for x in range(len(X_train.columns))], model_rf.feature_importances_)\n",
        "plt.xticks(rotation = 90)\n",
        "plt.title('Feature Importances for Random Forest Model')\n",
        "plt.xlabel('Feature')\n",
        "plt.ylabel('Importance %')\n",
        "plt.show()"
      ],
      "execution_count": null,
      "outputs": [
        {
          "output_type": "display_data",
          "data": {
            "image/png": "[encoded data removed]",
            "text/plain": [
              "<Figure size 1080x576 with 1 Axes>"
            ]
          },
          "metadata": {
            "tags": [],
            "needs_background": "light"
          }
        }
      ]
    },
    {
      "cell_type": "code",
      "metadata": {
        "colab": {
          "base_uri": "https://localhost:8080/"
        },
        "id": "aZts27GhNyMJ",
        "outputId": "7ba1452d-e993-4628-963d-656fdcfe7d2c"
      },
      "source": [
        "# Top 3 features for RandomForest\n",
        "feature_importances = model_rf.feature_importances_\n",
        "features = X_train.columns\n",
        "df = pd.DataFrame({'features': features, 'importance': feature_importances}).nlargest(3, 'importance')\n",
        "print(df)"
      ],
      "execution_count": null,
      "outputs": [
        {
          "output_type": "stream",
          "text": [
            "         features  importance\n",
            "2    TotalCharges    0.157585\n",
            "0          tenure    0.138539\n",
            "1  MonthlyCharges    0.135793\n"
          ],
          "name": "stdout"
        }
      ]
    },
    {
      "cell_type": "markdown",
      "metadata": {
        "id": "TQkGzAkdStcG"
      },
      "source": [
        "## Support Vector Machine Model"
      ]
    },
    {
      "cell_type": "code",
      "metadata": {
        "colab": {
          "base_uri": "https://localhost:8080/"
        },
        "id": "-UKrK8CWSsyt",
        "outputId": "82bb2a20-1280-4d75-f66e-582b8a20b4f4"
      },
      "source": [
        "#SVM using C-Support Vector\n",
        "\n",
        "model_SVM = svm.SVC(probability = True,random_state=2021)\n",
        "\n",
        "model_SVM.fit(X_train, y_train)\n",
        "\n",
        "predict_SVM = model_SVM.predict(X_test)\n",
        "accuracy_SVM = accuracy_score(y_test, predict_SVM)\n",
        "\n",
        "CVS_SVM = np.mean(cross_val_score(model_SVM, X, y, cv=10))\n",
        "print('Cross Validation Score = ',CVS_SVM)\n",
        "print('Accuracy = ', accuracy_SVM)"
      ],
      "execution_count": null,
      "outputs": [
        {
          "output_type": "stream",
          "text": [
            "Cross Validation Score =  0.7996979358015868\n",
            "Accuracy =  0.8173719376391982\n"
          ],
          "name": "stdout"
        }
      ]
    },
    {
      "cell_type": "markdown",
      "metadata": {
        "id": "iye3jwGYXtLN"
      },
      "source": [
        "## Boosting Ensemble Models\n",
        "\n"
      ]
    },
    {
      "cell_type": "code",
      "metadata": {
        "colab": {
          "base_uri": "https://localhost:8080/"
        },
        "id": "TMMAFYn8geBN",
        "outputId": "40611ce0-892e-4682-f72c-5c65f44b679e"
      },
      "source": [
        "#AdaBoost\n",
        "base_est2 = DecisionTreeClassifier(max_depth= 10)\n",
        "ada_boost = AdaBoostClassifier(base_est2, n_estimators=200, random_state=2021, learning_rate=.05)\n",
        "ada_boost.fit(X_train, y_train)\n",
        "\n",
        "predict_ada = ada_boost.predict(X_test)\n",
        "accuracy_ada_boost = accuracy_score(y_test, predict_ada)\n",
        "\n",
        "CVS_ada = np.mean(cross_val_score(ada_boost, X, y, cv=10))\n",
        "print('Cross Validation Score = ',CVS_ada)\n",
        "print('Accuracy = ', accuracy_ada_boost)"
      ],
      "execution_count": null,
      "outputs": [
        {
          "output_type": "stream",
          "text": [
            "Cross Validation Score =  0.78232198591856\n",
            "Accuracy =  0.7744988864142539\n"
          ],
          "name": "stdout"
        }
      ]
    },
    {
      "cell_type": "code",
      "metadata": {
        "colab": {
          "base_uri": "https://localhost:8080/"
        },
        "id": "4FJERYsCT75X",
        "outputId": "35ffb11a-2857-4a73-e388-8fcc9187a934"
      },
      "source": [
        "#xgboost\n",
        "\n",
        "model_xgb = xgb.XGBClassifier(learning_rate=0.01,verbosity=0, colsample_bytree = 0.3,\n",
        "                max_depth = 5, alpha = 10, n_estimators = 10, random_state=2021)\n",
        "\n",
        "model_xgb.fit(X_train, y_train)\n",
        "\n",
        "predict_xgb = model_xgb.predict(X_test)\n",
        "accuracy_xgb = accuracy_score(y_test, predict_xgb)\n",
        "\n",
        "CVS_xgb = np.mean(cross_val_score(model_xgb, X, y, cv=10))\n",
        "print('Cross Validation Score = ',CVS_xgb)\n",
        "print('Accuracy = ', accuracy_xgb)"
      ],
      "execution_count": null,
      "outputs": [
        {
          "output_type": "stream",
          "text": [
            "Cross Validation Score =  0.783161735557032\n",
            "Accuracy =  0.8101336302895323\n"
          ],
          "name": "stdout"
        }
      ]
    },
    {
      "cell_type": "markdown",
      "metadata": {
        "id": "lF3GWDxd1lQI"
      },
      "source": [
        "##Voting Ensemble"
      ]
    },
    {
      "cell_type": "code",
      "metadata": {
        "colab": {
          "base_uri": "https://localhost:8080/"
        },
        "id": "kfd3c0gAhXiz",
        "outputId": "47fa5408-8fb1-4e7a-8810-a3c4795490f4"
      },
      "source": [
        "#Voting Ensemble for Classification\n",
        "#taking the 4 most high performing models from above\n",
        "\n",
        "estimator = [('lr', model_lr_tuned), ('svm', model_SVM), ('rf', model_rf), ('xgb', model_xgb)]\n",
        "\n",
        "eclf = VotingClassifier(estimators=estimator, voting='soft')\n",
        "eclf.fit(X_train, y_train)\n",
        "\n",
        "voting_pred = eclf.predict(X_test)\n",
        "accuracy_voting = accuracy_score(y_test, voting_pred)\n",
        "\n",
        "CVS_voting = np.mean(cross_val_score(eclf, X, y, cv=10,))\n",
        "print('Cross Validation Score = ',CVS_voting)\n",
        "print(\"Accuracy = \", accuracy_voting)"
      ],
      "execution_count": null,
      "outputs": [
        {
          "output_type": "stream",
          "text": [
            "Cross Validation Score =  0.8023698918487334\n",
            "Accuracy =  0.8240534521158129\n"
          ],
          "name": "stdout"
        }
      ]
    }
  ]
}